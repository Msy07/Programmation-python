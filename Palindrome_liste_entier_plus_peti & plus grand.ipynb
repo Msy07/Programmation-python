{
 "cells": [
  {
   "cell_type": "code",
   "execution_count": 27,
   "metadata": {},
   "outputs": [
    {
     "name": "stdout",
     "output_type": "stream",
     "text": [
      "[11, 66, 39, 26, 43, 5, 71, 72, 99, 17]\n",
      "L'entier le plus grand de la liste vaut 99.\n",
      "L'entier le plus petit de la liste vaut 5.\n"
     ]
    }
   ],
   "source": [
    "#Ecrire un programme python qui, étant donnée une liste d’entiers stockée dans une variable (de\n",
    "#nom L), affiche à l’écran la valeur minimale de cette liste.\n",
    "#Fonctions prédéfinies utilisables : len() et range()\n",
    "\n",
    "import random\n",
    "Min = 1\n",
    "Max = 100\n",
    "N = 10\n",
    "L = random.sample(range(Min, Max),N)\n",
    "print(L)\n",
    "beste= L[0]\n",
    "for a in range(len(L)):\n",
    "    if L[a]> beste:\n",
    "        beste = L [a]\n",
    "print(\"L'entier le plus grand de la liste vaut %d.\" % beste)\n",
    "for a in range(len(L)):\n",
    "    if L[a]< beste:\n",
    "        beste = L [a]\n",
    "print(\"L'entier le plus petit de la liste vaut %d.\" % beste)"
   ]
  },
  {
   "cell_type": "code",
   "execution_count": 36,
   "metadata": {},
   "outputs": [
    {
     "data": {
      "text/plain": [
       "True"
      ]
     },
     "execution_count": 36,
     "metadata": {},
     "output_type": "execute_result"
    }
   ],
   "source": [
    "def palindrome(c):\n",
    "    for i in range(len(c)%2):\n",
    "        if c[i] != c[-i-1]:\n",
    "            return False\n",
    "    return True\n",
    "palindrome(\"rêver\")\n"
   ]
  },
  {
   "cell_type": "code",
   "execution_count": 44,
   "metadata": {},
   "outputs": [
    {
     "data": {
      "text/plain": [
       "True"
      ]
     },
     "execution_count": 44,
     "metadata": {},
     "output_type": "execute_result"
    }
   ],
   "source": [
    "#0.1 Quizz 22 janvier 2020\n",
    "#Ecrire une fonction python palindrome(c) qui, étant donnée une variable c de type str (chaîne de\n",
    "#caractères), renvoie True si la chaîne c est un palindrome, et False sinon.\n",
    "#Seules fonctions prédéfinies utilisables : len() et range()\n",
    "def palindrome(c):\n",
    "    for i in range(len(c)%2):\n",
    "        if c[i] != c[-i-1]:\n",
    "            return False\n",
    "    return True\n",
    "palindrome(\"selles\")"
   ]
  },
  {
   "cell_type": "code",
   "execution_count": null,
   "metadata": {},
   "outputs": [],
   "source": []
  }
 ],
 "metadata": {
  "kernelspec": {
   "display_name": "Python 3",
   "language": "python",
   "name": "python3"
  },
  "language_info": {
   "codemirror_mode": {
    "name": "ipython",
    "version": 3
   },
   "file_extension": ".py",
   "mimetype": "text/x-python",
   "name": "python",
   "nbconvert_exporter": "python",
   "pygments_lexer": "ipython3",
   "version": "3.7.6"
  }
 },
 "nbformat": 4,
 "nbformat_minor": 4
}
